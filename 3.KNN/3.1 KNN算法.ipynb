{
 "cells": [
  {
   "cell_type": "code",
   "execution_count": 6,
   "metadata": {},
   "outputs": [],
   "source": [
    "import numpy as np\n",
    "from matplotlib import pyplot as plt"
   ]
  },
  {
   "cell_type": "code",
   "execution_count": 7,
   "metadata": {},
   "outputs": [],
   "source": [
    "raw_data_X = [[3.393533211, 2.331273381],\n",
    "              [3.110073483, 1.781539638],\n",
    "              [1.343808831, 3.368360954],\n",
    "              [3.582294042, 4.679179110],\n",
    "              [2.280362439, 2.866990263],\n",
    "              [7.423436942, 4.696522875],\n",
    "              [5.745051997, 3.533989803],\n",
    "              [9.172168622, 2.511101045],\n",
    "              [7.792783481, 3.424088941],\n",
    "              [7.939820817, 0.791637231]\n",
    "             ]\n",
    "raw_data_y = [0, 0, 0, 0, 0, 1, 1, 1, 1, 1]"
   ]
  },
  {
   "cell_type": "code",
   "execution_count": 8,
   "metadata": {},
   "outputs": [],
   "source": [
    "X_train = np.array(raw_data_X)\n",
    "y_train = np.array(raw_data_y)"
   ]
  },
  {
   "cell_type": "code",
   "execution_count": 9,
   "metadata": {},
   "outputs": [
    {
     "data": {
      "image/png": "[encoded data removed]",
      "text/plain": [
       "<Figure size 432x288 with 1 Axes>"
      ]
     },
     "metadata": {
      "needs_background": "light"
     },
     "output_type": "display_data"
    }
   ],
   "source": [
    "plt.scatter(x = X_train[y_train == 0,0],y = X_train[y_train == 0,1],color = \"b\")\n",
    "plt.scatter(x = X_train[y_train == 1,0],y = X_train[y_train == 1,1],color = \"r\")\n",
    "plt.show()"
   ]
  },
  {
   "cell_type": "markdown",
   "metadata": {},
   "source": [
    "此时新增一个数据点，以当前数据的分布规则判断新数据点的分类"
   ]
  },
  {
   "cell_type": "code",
   "execution_count": 10,
   "metadata": {},
   "outputs": [],
   "source": [
    "x = np.array([8.093607318, 3.365731514])"
   ]
  },
  {
   "cell_type": "code",
   "execution_count": 11,
   "metadata": {},
   "outputs": [
    {
     "data": {
      "image/png": "[encoded data removed]",
      "text/plain": [
       "<Figure size 432x288 with 1 Axes>"
      ]
     },
     "metadata": {
      "needs_background": "light"
     },
     "output_type": "display_data"
    }
   ],
   "source": [
    "plt.scatter(x = X_train[y_train == 0,0],y = X_train[y_train == 0,1],color = \"b\")\n",
    "plt.scatter(x = X_train[y_train == 1,0],y = X_train[y_train == 1,1],color = \"r\")\n",
    "plt.scatter(x[0],x[1],color= \"black\")\n",
    "plt.show()"
   ]
  },
  {
   "cell_type": "markdown",
   "metadata": {},
   "source": [
    "## KNN算法实现"
   ]
  },
  {
   "cell_type": "code",
   "execution_count": 12,
   "metadata": {},
   "outputs": [
    {
     "data": {
      "text/plain": [
       "array([1, 1, 1, 1])"
      ]
     },
     "execution_count": 12,
     "metadata": {},
     "output_type": "execute_result"
    }
   ],
   "source": [
    "from math import sqrt\n",
    "from collections import Counter\n",
    "distances = []\n",
    "# 计算新增点x到每个点之间的距离，并储存到一个列表中\n",
    "for x_train in X_train:\n",
    "    d = sqrt(np.sum((x_train - x)**2))\n",
    "    distances.append(d)\n",
    "    \n",
    "# 对列表中的距离进行排序，选出距离最近的n个点\n",
    "nearest = y_train[np.argsort(distances)]\n",
    "topK_y = nearest[:4]\n",
    "topK_y"
   ]
  },
  {
   "cell_type": "code",
   "execution_count": 13,
   "metadata": {},
   "outputs": [
    {
     "data": {
      "text/plain": [
       "1"
      ]
     },
     "execution_count": 13,
     "metadata": {},
     "output_type": "execute_result"
    }
   ],
   "source": [
    "c = Counter(topK_y) #返回一个字典\n",
    "\n",
    "# 返回和新增点最接近的点的标签\n",
    "c.most_common()[0][0]"
   ]
  },
  {
   "cell_type": "code",
   "execution_count": 14,
   "metadata": {},
   "outputs": [
    {
     "data": {
      "text/plain": [
       "[4.812566907609877,\n",
       " 5.229270827235305,\n",
       " 6.749798999160064,\n",
       " 4.6986266144110695,\n",
       " 5.83460014556857,\n",
       " 1.4900114024329525,\n",
       " 2.354574897431513,\n",
       " 1.3761132675144652,\n",
       " 0.3064319992975,\n",
       " 2.5786840957478887]"
      ]
     },
     "execution_count": 14,
     "metadata": {},
     "output_type": "execute_result"
    }
   ],
   "source": [
    "distances"
   ]
  },
  {
   "cell_type": "markdown",
   "metadata": {},
   "source": [
    "## 封装KNN算法"
   ]
  },
  {
   "cell_type": "code",
   "execution_count": 15,
   "metadata": {},
   "outputs": [],
   "source": [
    "from math import sqrt\n",
    "from collections import Counter\n",
    "def KNNClassifier(x,X_train,y_train,k):\n",
    "    # 使用列表存储各个点与新增点的距离\n",
    "    dist = [np.sqrt(np.sum((x - x_train)**2)) for x_train in X_train]\n",
    "    # 排序选出距离最近的k个点\n",
    "    k_nearest = y_train[np.argsort(dist)[:k]]\n",
    "    # 对距离最近的k个点的标签统计次数\n",
    "    votes = Counter(k_nearest)\n",
    "    # 返回属性个数最多的标签\n",
    "    predict_y = votes.most_common(1)[0][0]\n",
    "    return predict_y"
   ]
  },
  {
   "cell_type": "code",
   "execution_count": 16,
   "metadata": {},
   "outputs": [
    {
     "data": {
      "text/plain": [
       "1"
      ]
     },
     "execution_count": 16,
     "metadata": {},
     "output_type": "execute_result"
    }
   ],
   "source": [
    "KNNClassifier(x,X_train,y_train,3)"
   ]
  },
  {
   "cell_type": "code",
   "execution_count": 17,
   "metadata": {},
   "outputs": [
    {
     "data": {
      "text/plain": [
       "2.0"
      ]
     },
     "execution_count": 17,
     "metadata": {},
     "output_type": "execute_result"
    }
   ],
   "source": [
    "np.sqrt(4)"
   ]
  },
  {
   "cell_type": "markdown",
   "metadata": {},
   "source": [
    "## 运行pycharm中封装的KNN算法"
   ]
  },
  {
   "cell_type": "code",
   "execution_count": 18,
   "metadata": {},
   "outputs": [],
   "source": [
    "%run ./encapsulations/KNN.py"
   ]
  },
  {
   "cell_type": "code",
   "execution_count": 19,
   "metadata": {},
   "outputs": [
    {
     "name": "stdout",
     "output_type": "stream",
     "text": [
      "import numpy as np\r\n",
      "from math import sqrt\r\n",
      "from collections import Counter\r\n",
      "\r\n",
      "def KNN_classify(x,X_train,y_train,k):\r\n",
      "\r\n",
      "    assert 1 <= k <= X_train.shape[0], \"k must be valid\"\r\n",
      "    assert X_train.shape[0] == y_train.shape[0],\"the size of X_train must equal to the size of y_train\"\r\n",
      "    assert X_train.shape[1] == x.shape[0],\"the feature number of x must equal to X_train\"\r\n",
      "\r\n",
      "    distances = [sqrt(np.sum((x - x_train)**2)) for x_train in X_train]\r\n",
      "    nearest = np.argsort(distances)[:k]\r\n",
      "    topK_y = y_train[nearest]\r\n",
      "    votes = Counter(topK_y).most_common()[0][0]\r\n",
      "    return votes\r\n"
     ]
    }
   ],
   "source": [
    "%cat ./encapsulations/KNN.py"
   ]
  },
  {
   "cell_type": "code",
   "execution_count": 20,
   "metadata": {},
   "outputs": [
    {
     "data": {
      "text/plain": [
       "1"
      ]
     },
     "execution_count": 20,
     "metadata": {},
     "output_type": "execute_result"
    }
   ],
   "source": [
    "KNN_classify(x,X_train,y_train,2)"
   ]
  },
  {
   "cell_type": "markdown",
   "metadata": {},
   "source": [
    "## 使用Scikit-learn中的KNN算法"
   ]
  },
  {
   "cell_type": "code",
   "execution_count": 21,
   "metadata": {},
   "outputs": [],
   "source": [
    "from sklearn.neighbors import KNeighborsClassifier"
   ]
  },
  {
   "cell_type": "code",
   "execution_count": 22,
   "metadata": {},
   "outputs": [],
   "source": [
    "KNN_classifier = KNeighborsClassifier(n_neighbors=6)"
   ]
  },
  {
   "cell_type": "code",
   "execution_count": 28,
   "metadata": {},
   "outputs": [
    {
     "data": {
      "text/plain": [
       "KNeighborsClassifier(algorithm='auto', leaf_size=30, metric='minkowski',\n",
       "                     metric_params=None, n_jobs=None, n_neighbors=6, p=2,\n",
       "                     weights='uniform')"
      ]
     },
     "execution_count": 28,
     "metadata": {},
     "output_type": "execute_result"
    }
   ],
   "source": [
    "KNN_classifier.fit(X_train,y_train)"
   ]
  },
  {
   "cell_type": "code",
   "execution_count": 30,
   "metadata": {},
   "outputs": [
    {
     "data": {
      "text/plain": [
       "array([1])"
      ]
     },
     "execution_count": 30,
     "metadata": {},
     "output_type": "execute_result"
    }
   ],
   "source": [
    "KNN_classifier.predict(x.reshape(1,-1))  \n",
    "#新版本的sklearn已经不支持直接传入一个数进行KNN预测了，需要传入一个数组，因此需要reshape"
   ]
  },
  {
   "cell_type": "markdown",
   "metadata": {},
   "source": [
    "## 重新整理我们的KNN算法"
   ]
  },
  {
   "cell_type": "code",
   "execution_count": 49,
   "metadata": {},
   "outputs": [
    {
     "name": "stdout",
     "output_type": "stream",
     "text": [
      "import numpy as np\r\n",
      "from math import sqrt\r\n",
      "from collections import Counter\r\n",
      "\r\n",
      "class KNNClassifier:\r\n",
      "\r\n",
      "    def __init__(self,k):\r\n",
      "        \"\"\"初始化KNN分类器\"\"\"\r\n",
      "        assert k >= 1,\"k must be valid\"\r\n",
      "        self.k = k\r\n",
      "        self._X_train = None\r\n",
      "        self._y_train = None\r\n",
      "\r\n",
      "    def fit(self,X_train,y_train):\r\n",
      "        \"\"\"根据训练集X_train和y_train训练KNN分类器\"\"\"\r\n",
      "        assert X_train.shape[0] == y_train.shape[0], \"the size of X_train must equal to the size of y_train\"\r\n",
      "        assert self.k <= X_train.shape[0], \"the size of X_train must be at least k.\"\r\n",
      "\r\n",
      "        self._X_train = X_train\r\n",
      "        self._y_train = y_train\r\n",
      "        return self\r\n",
      "\r\n",
      "    def predict(self,X_predict):\r\n",
      "        \"\"\"给定待预测数据集X_predict,返回表示X_predict的结果向量\"\"\"\r\n",
      "        assert self._X_train is not None and self._X_train is not None,\\\r\n",
      "            \"must fit before predict\"\r\n",
      "        assert X_predict.shape[1] == self._X_train.shape[1],\\\r\n",
      "            \"the feature number of X_predict must be equal to X_train\"\r\n",
      "\r\n",
      "        y_predict = [self._predict(x) for x in X_predict]\r\n",
      "        return np.array(y_predict)\r\n",
      "\r\n",
      "    def _predict(self,x):\r\n",
      "        \"\"\"给单个的待预测数据x,返回x_predict的预测结果值\"\"\"\r\n",
      "        assert x.shape[0] == self._X_train.shape[1],\\\r\n",
      "            \"the feature number of x must be equal to X_train\"\r\n",
      "\r\n",
      "        distances = [sqrt(np.sum((x - x_train)**2)) for x_train in self._X_train]\r\n",
      "        nearest = np.argsort(distances)[:self.k]\r\n",
      "        topK_y = self._y_train[nearest]\r\n",
      "        votes = Counter(topK_y).most_common()[0][0]\r\n",
      "        return votes\r\n",
      "\r\n",
      "    def __repr__(self):\r\n",
      "        return \"KNN(k=%d)\" % self.k\r\n"
     ]
    }
   ],
   "source": [
    "%cat ./encapsulations/KNN.py"
   ]
  },
  {
   "cell_type": "code",
   "execution_count": 50,
   "metadata": {},
   "outputs": [],
   "source": [
    "%run ./encapsulations/KNN.py"
   ]
  },
  {
   "cell_type": "code",
   "execution_count": 51,
   "metadata": {},
   "outputs": [],
   "source": [
    "knn_clf= KNNClassifier(k=6)"
   ]
  },
  {
   "cell_type": "code",
   "execution_count": 52,
   "metadata": {},
   "outputs": [
    {
     "data": {
      "text/plain": [
       "KNN(k=6)"
      ]
     },
     "execution_count": 52,
     "metadata": {},
     "output_type": "execute_result"
    }
   ],
   "source": [
    "knn_clf.fit(X_train,y_train)"
   ]
  },
  {
   "cell_type": "code",
   "execution_count": 53,
   "metadata": {},
   "outputs": [
    {
     "data": {
      "text/plain": [
       "array([1])"
      ]
     },
     "execution_count": 53,
     "metadata": {},
     "output_type": "execute_result"
    }
   ],
   "source": [
    "knn_clf.predict(x.reshape(1,-1))"
   ]
  },
  {
   "cell_type": "code",
   "execution_count": null,
   "metadata": {},
   "outputs": [],
   "source": []
  },
  {
   "cell_type": "code",
   "execution_count": null,
   "metadata": {},
   "outputs": [],
   "source": []
  }
 ],
 "metadata": {
  "kernelspec": {
   "display_name": "Python 3",
   "language": "python",
   "name": "python3"
  },
  "language_info": {
   "codemirror_mode": {
    "name": "ipython",
    "version": 3
   },
   "file_extension": ".py",
   "mimetype": "text/x-python",
   "name": "python",
   "nbconvert_exporter": "python",
   "pygments_lexer": "ipython3",
   "version": "3.7.7"
  }
 },
 "nbformat": 4,
 "nbformat_minor": 2
}
